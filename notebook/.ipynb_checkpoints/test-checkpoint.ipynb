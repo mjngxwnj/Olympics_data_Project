{
 "cells": [
  {
   "cell_type": "code",
   "execution_count": 9,
   "id": "1195f0b0-7adf-4b58-a5f1-6120b54b7501",
   "metadata": {},
   "outputs": [
    {
     "name": "stdout",
     "output_type": "stream",
     "text": [
      "Successfully create SparkSession for Bronze task with app name: test, master: local\n",
      "\n"
     ]
    },
    {
     "name": "stderr",
     "output_type": "stream",
     "text": [
      "                                                                                \r"
     ]
    },
    {
     "name": "stdout",
     "output_type": "stream",
     "text": [
      "+------------------------------------------------------------------------------+\n",
      "|PAR1\u0015\u0000\u0015��\u000e\u0015��\u0006\u0015�݈�\u000e\u001c",
      "\u0015֭\u0001\u0015\u0000\u0015\u0006\u0015\\b\u0000\u0000��\\aH\u0004\u0000\u0000\u0000֭\u0001\u0001\\a\u0000\u0000\u00001535420\u0019\\v\u00009\u0015\\v\u00003\u0011\u0016\\b646\u001d",
      "\\v\u00007|\n",
      "+------------------------------------------------------------------------------+\n",
      "|                                                                       !\\b647\u0011|\n",
      "|                                                                       \u0016\\f7163|\n",
      "|                                                                       \\v\\b844|\n",
      "|                                                          !\u001041265\\t\u0016\u0001\\v\u00006\u0019\\...|\n",
      "|                                                                       c\\f4127|\n",
      "|                                                          M\u0001\\v\u00117\\b301\u0011\u0016\u000434\u0019...|\n",
      "|                                                          n\\f4610\u0011M\\b611\u0011M\u000461\u0015|\n",
      "|                                                                          NULL|\n",
      "|                                                            �\\b532\u0011�\\f5325\u0019\u0016\u00005|\n",
      "|                                                                       c\\f5328|\n",
      "|                                                              �\u001057704\\t�\\f6034|\n",
      "|                                                                �\\b606\u0011�\\f6098|\n",
      "|                                                                  7\u0001\\v-\u0013\\f6099|\n",
      "|                                                                        y\u0001\\v\u00001|\n",
      "|                                                                     B\u000410\u0011�\u0001\\v|\n",
      "|                                                          �\\f6260\u0011X\\b261\u0011\u0016\\...|\n",
      "|                                                          �\u0001\\v\u00117\u00005\u0019�\u000450\u0015�\\b...|\n",
      "|                                                                �\\b717-�\\f8807|\n",
      "|                                                             c\u001088753)\u0013\u00008\u0001\u0001\\t�\u0001|\n",
      "|                                                          -`\u001088897\\tB\u001088914...|\n",
      "+------------------------------------------------------------------------------+\n",
      "only showing top 20 rows\n",
      "\n",
      "SparkSession has stopped!\n"
     ]
    }
   ],
   "source": [
    "from pyspark.sql import SparkSession\n",
    "from pyspark.sql import DataFrame\n",
    "from pyspark import SparkConf\n",
    "from pyspark.sql.functions import col, split, regexp_replace, to_date\n",
    "from contextlib import contextmanager\n",
    "#create spark Session\n",
    "@contextmanager\n",
    "def sparkSession(appName: str, master: str):\n",
    "    conf = SparkConf()\n",
    "    conf.setAppName(appName)\n",
    "    conf.setMaster(master)\n",
    "    conf.set(\"spark.executor.memory\", \"2g\") \\\n",
    "        .set(\"spark.executor.cores\", \"2\")\n",
    "    spark = SparkSession.builder.config(conf = conf).getOrCreate()\n",
    "    print(f\"Successfully create SparkSession for Bronze task with app name: {appName}, master: {master}\\n\")\n",
    "    try:\n",
    "        yield spark \n",
    "    finally:\n",
    "        spark.stop()\n",
    "        print(\"SparkSession has stopped!\")\n",
    "with sparkSession('test', 'local') as spark:\n",
    "    df = spark.read.csv(\"/opt/data/athletes.csv\", header = True)\n",
    "    #df.show()\n",
    "    HDFS_path = \"hdfs://namenode:9000/datalake/bronze_storage/\"\n",
    "    df.write.parquet(HDFS_path, mode = 'overwrite')\n",
    "    #df = spark.read.csv(\"hdfs://namenode:9000/datalake/bronze_storage/\", header = True)\n",
    "    df.show()\n",
    "    \n"
   ]
  },
  {
   "cell_type": "code",
   "execution_count": null,
   "id": "5232950e-35d8-4a62-9f65-2013d3d6de02",
   "metadata": {},
   "outputs": [],
   "source": [
    "print(1)"
   ]
  },
  {
   "cell_type": "code",
   "execution_count": null,
   "id": "106045d8-b4bf-4ffe-ab2c-6d04d147e21d",
   "metadata": {},
   "outputs": [],
   "source": []
  }
 ],
 "metadata": {
  "kernelspec": {
   "display_name": "Python 3 (ipykernel)",
   "language": "python",
   "name": "python3"
  },
  "language_info": {
   "codemirror_mode": {
    "name": "ipython",
    "version": 3
   },
   "file_extension": ".py",
   "mimetype": "text/x-python",
   "name": "python",
   "nbconvert_exporter": "python",
   "pygments_lexer": "ipython3",
   "version": "3.11.6"
  }
 },
 "nbformat": 4,
 "nbformat_minor": 5
}
